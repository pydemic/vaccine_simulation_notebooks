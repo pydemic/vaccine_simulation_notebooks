{
 "cells": [
  {
   "cell_type": "code",
   "execution_count": 26,
   "metadata": {},
   "outputs": [],
   "source": [
    "import ipywidgets as widgets\n",
    "from ipywidgets import interact, interactive, fixed\n",
    "import pandas as pd\n",
    "import numpy as np\n",
    "import matplotlib.pyplot as plt\n",
    "from IPython.display import display, Latex, Markdown, HTML\n",
    "import sys\n",
    "import locale\n",
    "\n",
    "sys.path.append('.')\n",
    "import vaccines as lib\n",
    "\n",
    "# Dados e configurações\n",
    "plt.rcParams[\"figure.figsize\"] = (10,6.66)\n",
    "pd.set_option('display.max_rows', None)\n",
    "\n",
    "for loc in ['pt_BR.UTF-8', '']:\n",
    "    try:\n",
    "        locale.setlocale(locale.LC_ALL, loc)\n",
    "        break\n",
    "    except:\n",
    "        pass\n",
    "\n",
    "data = pd.read_pickle('data.pkl.gz')\n",
    "hospitalization = pd.read_pickle('hospitalization.pkl.gz')\n",
    "deaths = pd.read_pickle('deaths.pkl.gz')"
   ]
  },
  {
   "cell_type": "code",
   "execution_count": 33,
   "metadata": {},
   "outputs": [
    {
     "data": {
      "text/markdown": [
       "## Ferramenta para determinação do impacto da vacinação nas internações por COVID-19"
      ],
      "text/plain": [
       "<IPython.core.display.Markdown object>"
      ]
     },
     "metadata": {},
     "output_type": "display_data"
    },
    {
     "data": {
      "application/vnd.jupyter.widget-view+json": {
       "model_id": "4fe264ec12ab4e728f36b993a1795b2f",
       "version_major": 2,
       "version_minor": 0
      },
      "text/plain": [
       "interactive(children=(IntText(value=500000, description='Doses'), Dropdown(description='UF', options=(('Acre',…"
      ]
     },
     "metadata": {},
     "output_type": "display_data"
    }
   ],
   "source": [
    "voila = False\n",
    "if voila:\n",
    "    display(HTML(\"\"\"\n",
    "<style>\n",
    "    body {\n",
    "        max-width: 45rem !important;\n",
    "        margin: auto !important;\n",
    "    }\n",
    "    .output_area:first-child {\n",
    "        position: fixed !important;\n",
    "        top: 6rem !important;\n",
    "        right: 4rem !important;\n",
    "        min-width: 10rem !important; \n",
    "    }\n",
    "</style>\n",
    "\"\"\"))\n",
    "display(Markdown(\"## Ferramenta para determinação do impacto da vacinação nas internações por COVID-19\"))\n",
    "default_plan = \"\"\"95%\"\"\"\n",
    "region_options = [(v, k) for k, v in data['name'].to_dict().items()]\n",
    "vaccine_options = [('Coronavac/sinovac/butantan', (22, 28, 0.95)), ('Astrazeneca/Fiocruz', (90, 28, 0.95))]\n",
    "\n",
    "\n",
    "@widgets.interact(\n",
    "    region=widgets.Dropdown(options=region_options, description=\"UF\"),\n",
    "    stock=widgets.IntText(500_000, description=\"Doses\"),\n",
    "    rate=widgets.IntText(6_000, description=\"Capacidade\"),\n",
    "    vaccine=widgets.Dropdown(options=vaccine_options, description=\"Tipo vacina\"),\n",
    "    plan=widgets.Textarea(default_plan, description=\"Metas\"),\n",
    "    coarse=widgets.Checkbox(False, description='Agrupar de 10 em 10 anos'),\n",
    ")\n",
    "def run(stock, region, rate, vaccine, plan, coarse):\n",
    "    global events, age_distribution, severe, result\n",
    "    \n",
    "    if stock == 0:\n",
    "        display(Markdown('**ERRO:** Selecione a quantidade de vacinas!'))\n",
    "        return \n",
    "\n",
    "    second_dose_delay, immunization_delay, eff = vaccine\n",
    "    rates = lib.compute_schedule(rate, stock)\n",
    "    age_distribution = lib.population_80_plus(data.loc[region, \"age_distribution\"], coarse=coarse)\n",
    "    \n",
    "    plan = lib.SimpleDosesRatePlan.from_source(plan, age_distribution, rate=rate, delay=second_dose_delay, max_doses=stock // 2)\n",
    "    plan.execute()\n",
    "    events = plan.summary()\n",
    "    \n",
    "    severe = (hospitalization.loc[region].iloc[::-1])\n",
    "    death = (deaths.loc[region].iloc[::-1])\n",
    "    if coarse:\n",
    "        severe = lib.coarse_distribution(severe)\n",
    "        death = lib.coarse_distribution(death)\n",
    "        \n",
    "    duration = lib.by_periods(events['day'].max() + immunization_delay + second_dose_delay, 30)\n",
    "    result = lib.VaccinationCampaign(events, duration=duration)\n",
    "    \n",
    "    h_pressure = result.damage_curve(severe, delay=immunization_delay, efficiency=eff)\n",
    "    d_pressure = result.damage_curve(death, delay=immunization_delay)\n",
    "    display(Markdown(f\"\"\"\n",
    "## Resultados\n",
    "* **Total de doses:** {int(result.vaccines):n}\n",
    "* **Pessoas vacinadas:** {int(result.vaccines // 2):n}\n",
    "* **Dias de vacinação:** {result.campaign_duration}\n",
    "* **Redução na hospitalização:** {100 - 100 * h_pressure.iloc[-1]:.1f}%\n",
    "* **Redução dos óbitos:** {100 - 100 * d_pressure.iloc[-1]:.1f}%\n",
    "    \"\"\"))\n",
    "    \n",
    "    result.plot_hospitalization_pressure_curve(h_pressure, as_pressure=True)\n",
    "    plt.show()\n",
    "    \n",
    "    result.plot_death_pressure_curve(d_pressure, as_pressure=True)\n",
    "    plt.show()\n",
    "    \n",
    "    result.plot_vaccination_schedule()\n",
    "    plt.show()\n",
    "    \n",
    "       \n",
    "    display(Markdown(f\"\"\"\n",
    "## Observações\n",
    "\n",
    "O primeiro gráfico mostra a estimativa de redução nas hospitalizações esperadas enquanto o segundo gráfico mostra a estimativa de redução de mortalidade, em função da estratégia de imunização, ou seja devido à proteção conferida pelas vacinas. \n",
    "\n",
    "O terceiro gráfico mostra a cobertura vacinal por faixa etária ao longo do tempo. A faixa cinza mais clara representa o percentual da população que ainda não foi imunizada, \n",
    "a faixa cinza mais escura mostra a população que está aguardando a segunda dose e a faixa verde mostra a população que na qual foram aplicadas as duas\n",
    "doses da vacina. \n",
    "\n",
    "A simulação considera que a taxa de infecção se mantêm constante, o que é uma suposição conservadora, \n",
    "especialmente em níveis mais altos de vacinação.\n",
    "\n",
    "## Parâmetros utilizados \n",
    "\n",
    "1. Eficácia para formas graves da doença COVID-19 = 100%\n",
    "2. Para o esquema vacinal foram considerados os seguintes intervalos:\n",
    "    - **Astrazeneca/Fiocruz:** O esquema de imunização é de 2 doses com intervalo máximo de 90 dias entre as doses.\n",
    "    - **Butantan:** O esquema de imunização é de 2 doses com intervalo máximo de 22 dias entre as doses.\n",
    "3. Foram considerados imunizados apenas os indivíduos que tiverem as duas doses da vacina, \n",
    "4. A imunização (soroconversão) ocorre em um período de 28 dias após aplicação da segunda dose\n",
    "\n",
    "## Referências\n",
    "\n",
    "Parecer Público de avaliação de solicitação de autorização temporária de uso\n",
    "emergencial, em caráter experimental, da vacina adsorvida covid-19 (inativada) –\n",
    "[Instituto Butantan](https://www.gov.br/anvisa/pt-br/assuntos/noticias-anvisa/2021/confira-materiais-da-reuniao-extraordinaria-da-dicol/ppam-final-vacina-adsorvida-covid-19-inativada-butantan.pdf)\n",
    "\n",
    "Parecer Público de avaliação de solicitação de autorização temporária de uso\n",
    "emergencial, em caráter experimental, da vacina covid-19 (recombinante) –\n",
    "[Fundação Oswaldo Cruz (Fiocruz)](https://www.gov.br/anvisa/pt-br/assuntos/noticias-anvisa/2021/confira-materiais-da-reuniao-extraordinaria-da-dicol/ppam-final-vacina-covid-19-recombinante-fiocruz.pdf)\n",
    "    \"\"\"))\n"
   ]
  },
  {
   "cell_type": "code",
   "execution_count": 9,
   "metadata": {
    "tags": []
   },
   "outputs": [],
   "source": [
    "for m in list(sys.modules):\n",
    "    if m.startswith('vaccines'):\n",
    "        del sys.modules[m]\n",
    "import vaccines as lib\n",
    "\n",
    "from typing import List, Dict, Tuple, NamedTuple, Iterator\n",
    "from vaccines import Plan, Event\n",
    "from collections import defaultdict, Counter\n",
    "\n",
    "# plan = lib.MultipleVaccinesRatePlan.from_source('90%', age_distribution, rates=[2000, 1000], delays=[22, 90], max_doses=[20000, 10000])\n",
    "# plan.execute()\n",
    "# plan.summary().iloc[:25]"
   ]
  },
  {
   "cell_type": "code",
   "execution_count": 32,
   "metadata": {},
   "outputs": [
    {
     "data": {
      "text/plain": [
       "[(80, 100), (75, 2000), (70, 2000)]"
      ]
     },
     "execution_count": 32,
     "metadata": {},
     "output_type": "execute_result"
    }
   ],
   "source": [
    "src = '''\n",
    "# Informe as doses já aplicadas por faixa etária\n",
    "80: 0\n",
    "75: 0\n",
    "70: 0\n",
    "65: 0\n",
    "...\n",
    "'''\n",
    "lib.parse_plan(src, age_distribution)"
   ]
  },
  {
   "cell_type": "code",
   "execution_count": null,
   "metadata": {},
   "outputs": [],
   "source": []
  }
 ],
 "metadata": {
  "kernelspec": {
   "display_name": "Python 3",
   "language": "python",
   "name": "python3"
  },
  "language_info": {
   "codemirror_mode": {
    "name": "ipython",
    "version": 3
   },
   "file_extension": ".py",
   "mimetype": "text/x-python",
   "name": "python",
   "nbconvert_exporter": "python",
   "pygments_lexer": "ipython3",
   "version": "3.8.5"
  }
 },
 "nbformat": 4,
 "nbformat_minor": 4
}