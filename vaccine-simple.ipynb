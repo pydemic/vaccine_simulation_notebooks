{
 "cells": [
  {
   "cell_type": "code",
   "execution_count": 1,
   "metadata": {},
   "outputs": [],
   "source": [
    "import ipywidgets as widgets\n",
    "from ipywidgets import interact, interactive, fixed\n",
    "import pandas as pd\n",
    "import numpy as np\n",
    "import matplotlib.pyplot as plt\n",
    "from IPython.display import display, Latex, Markdown\n",
    "import vaccines as lib\n",
    "import sys\n",
    "import locale\n",
    "sign = lambda x: 1 if x >= 0 else -1\n",
    "\n",
    "# Dados e configurações\n",
    "plt.rcParams[\"figure.figsize\"] = (10,6.66)\n",
    "pd.set_option('display.max_rows', None)\n",
    "locale.setlocale(locale.LC_ALL, 'pt_BR.UTF-8')\n",
    "\n",
    "data = pd.read_pickle('data.pkl.gz')\n",
    "hospitalization = pd.read_pickle('hospitalization.pkl.gz')"
   ]
  },
  {
   "cell_type": "code",
   "execution_count": 26,
   "metadata": {},
   "outputs": [
    {
     "data": {
      "text/markdown": [
       "## Ferramenta para determinação do impacto da vacinação nas internações por COVID-19"
      ],
      "text/plain": [
       "<IPython.core.display.Markdown object>"
      ]
     },
     "metadata": {},
     "output_type": "display_data"
    },
    {
     "data": {
      "application/vnd.jupyter.widget-view+json": {
       "model_id": "5d495ae89cf54c97b28f2ad440f5b2c5",
       "version_major": 2,
       "version_minor": 0
      },
      "text/plain": [
       "interactive(children=(IntText(value=500000, description='Doses'), Dropdown(description='UF', options=(('Acre',…"
      ]
     },
     "metadata": {},
     "output_type": "display_data"
    }
   ],
   "source": [
    "display(Markdown(\"## Ferramenta para determinação do impacto da vacinação nas internações por COVID-19\"))\n",
    "default_plan = \"\"\"95%\"\"\"\n",
    "region_options = [(v, k) for k, v in data['name'].to_dict().items()]\n",
    "vaccine_options = [('Coronavac/sinovac/butantan', (21, 20, 0.95)), ('Astrazeneca/Fiocruz', (90, 22, 0.95))]\n",
    "\n",
    "\n",
    "@widgets.interact(\n",
    "    region=widgets.Dropdown(options=region_options, description=\"UF\"),\n",
    "    vaccines=widgets.IntText(500_000, description=\"Doses\"),\n",
    "    rate=widgets.IntText(6_000, description=\"dose/dia\"),\n",
    "    vaccine=widgets.Dropdown(options=vaccine_options, description=\"Tipo vacina\"),\n",
    "    plan=widgets.Textarea(default_plan, description=\"Metas\"),\n",
    ")\n",
    "def run(vaccines, region, rate, vaccine, plan, coarse=fixed(False)):\n",
    "    global events, age_distribution, severe, result\n",
    "    \n",
    "    second_dose_delay, immunization_delay, eff = vaccine\n",
    "    rates = lib.compute_schedule(rate, vaccines)\n",
    "    \n",
    "    if coarse:\n",
    "        s = lib.population_80_plus(data.loc[region, \"age_distribution\"]).iloc[1:]\n",
    "        age_distribution = pd.Series(s.values.reshape((2, len(s) // 2)).sum(0), index = s.index[1::2])\n",
    "        age_distribution.name = region\n",
    "    else:\n",
    "        age_distribution = lib.population_80_plus(data.loc[region, \"age_distribution\"])\n",
    "\n",
    "    plan = lib.parse_plan(plan, age_distribution)\n",
    "    events = lib.execute_plan_safe(plan, rates, age_distribution, delay=second_dose_delay)\n",
    "    severe = hospitalization.loc[region].iloc[::-1]\n",
    "    duration = lib.by_periods(events['day'].max() + immunization_delay + second_dose_delay, 30)\n",
    "    result = lib.VaccinationCampaign(events, duration=duration)\n",
    "    \n",
    "    pressure = result.damage_curve(severe, delay=immunization_delay, efficiency=eff)\n",
    "    deaths = result.damage_curve(severe, delay=immunization_delay)\n",
    "    display(Markdown(f\"\"\"\n",
    "## Resultados\n",
    "* **Total de doses:** {int(result.vaccines):n}\n",
    "* **Pessoas vacinadas:** {int(result.vaccines // 2):n}\n",
    "* **Dias de vacinação:** {result.campaign_duration}\n",
    "* **Redução na hospitalização:** {100 - 100 * pressure.iloc[-1]:.1f}%\n",
    "* **Redução dos óbitos:** {100 - 100 * deaths.iloc[-1]:.1f}%\n",
    "    \"\"\"))\n",
    "    result.plot_hospitalization_pressure_curve(pressure, as_pressure=True)\n",
    "    result.plot_vaccination_schedule()\n",
    "    plt.show()\n",
    "    \n",
    "    \n",
    "    \n",
    "    display(Markdown(f\"\"\"\n",
    "## Observações\n",
    "\n",
    "O primeiro gráfico mostra a diminuição na pressão hospitalar esperada \n",
    "devido à proteção conferida pelas vacinas. A simulação considera que a \n",
    "taxa de infecção se mantêm constante, o que é uma suposição conservadora, \n",
    "especialmente em níveis mais altos de vacinação.\n",
    "    \"\"\"))\n"
   ]
  },
  {
   "cell_type": "code",
   "execution_count": 27,
   "metadata": {},
   "outputs": [],
   "source": [
    "for m in list(sys.modules):\n",
    "    if m.startswith('vaccines'):\n",
    "        del sys.modules[m]\n",
    "import vaccines as lib\n",
    "\n",
    "#campaign = lib.VaccinationCampaign(events, duration=120)#, age_distribution, severe)\n",
    "#campaign.plot_hospitalization_pressure_curve(severe, delay=22)\n",
    "# campaign.vaccines"
   ]
  },
  {
   "cell_type": "code",
   "execution_count": null,
   "metadata": {},
   "outputs": [],
   "source": []
  }
 ],
 "metadata": {
  "kernelspec": {
   "display_name": "Python 3",
   "language": "python",
   "name": "python3"
  },
  "language_info": {
   "codemirror_mode": {
    "name": "ipython",
    "version": 3
   },
   "file_extension": ".py",
   "mimetype": "text/x-python",
   "name": "python",
   "nbconvert_exporter": "python",
   "pygments_lexer": "ipython3",
   "version": "3.9.1"
  }
 },
 "nbformat": 4,
 "nbformat_minor": 4
}
