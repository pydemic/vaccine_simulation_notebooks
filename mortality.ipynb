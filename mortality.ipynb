{
 "cells": [
  {
   "cell_type": "code",
   "execution_count": 1,
   "metadata": {},
   "outputs": [
    {
     "output_type": "execute_result",
     "data": {
      "text/plain": [
       "             0    5    10   15   20    25    30    35    40    45     50  \\\n",
       "id                                                                         \n",
       "BR-RO         7    5    2    9   11    12    38    56    71   111    137   \n",
       "BR-AC         4    1    1    3    1     8    15    18    24    34     47   \n",
       "BR-AM        29   16    9   25   45    55   112   173   301   356    415   \n",
       "BR-RR         8    2    1    5    3     8    14    19    23    36     39   \n",
       "BR-PA        34   16   20   26   47    68   127   162   232   357    448   \n",
       "BR-AP         1    2    3    0    5    13     7    22    48    39     55   \n",
       "BR-TO         1    0    2    4   13     6    21    25    47    52     63   \n",
       "BR-MA        16    6    6   14   18    31    44    88   100   130    162   \n",
       "BR-PI         3    3    6    8   12    28    43    47    67    92    127   \n",
       "BR-CE        27   15   16   26   51    73   121   211   283   354    494   \n",
       "BR-RN         9    1    1    5   15    17    42    53    85    82    149   \n",
       "BR-PB        14    6    0    4   24    30    52    96   130   149    209   \n",
       "BR-PE        53   20   10   23   44    70   132   212   285   375    593   \n",
       "BR-AL        11    8    5    9   13    25    41    58    87   159    153   \n",
       "BR-SE        23   19    6    9   19    18    52    70    85   125    178   \n",
       "BR-BA        26   14   10   24   39    71   101   215   315   354    502   \n",
       "BR-MG        16    7    5   10   36    68   121   220   301   415    674   \n",
       "BR-ES        11    2    4    7   15    25    43    74   107   161    201   \n",
       "BR-RJ        40   22   18   40   99   183   307   556   855  1103   1524   \n",
       "BR-SP        28   21   31   61  145   270   554   949  1393  1940   2779   \n",
       "BR-PR         3    5    3   14   30    53    97   160   226   356    503   \n",
       "BR-SC         7    2    4    8   13    27    39    89   134   211    298   \n",
       "BR-RS         5    3    2   15   22    47    76   153   210   316    455   \n",
       "BR-MS         0    4    0    2    5    15    30    48    77   106    169   \n",
       "BR-MT        12    3    2    8   12    20    45    62   102   117    190   \n",
       "BR-GO         6    4    5   12   31    51    88   152   245   327    408   \n",
       "BR-DF         0    0    0    0    1     0     1     1     4     2      8   \n",
       "BR          394  207  172  371  769  1292  2363  3989  5837  7859  10980   \n",
       "BR-1100205    5    4    1    6    3     8    22    35    45    52     65   \n",
       "BR-1200401    1    0    0    2    0     7    14    16    21    27     38   \n",
       "BR-1302603   13    9    6   14   26    38    81   131   229   274    321   \n",
       "BR-1400100    5    2    1    1    3     6    14    12    19    30     27   \n",
       "BR-1501402    5    4    8    2   12    15    43    31    60   102    130   \n",
       "BR-1600303    1    0    2    0    5     7     5    13    44    28     36   \n",
       "BR-1721000    0    0    0    0    4     1     4     6     6    11     11   \n",
       "BR-2111300    4    0    1    4    6     7    16    28    30    51     63   \n",
       "BR-2211001    0    0    3    3    7    16    13    26    25    52     59   \n",
       "BR-2304400    6    4    6   13   18    30    38    97   147   169    253   \n",
       "BR-2408102    4    1    1    1    7     6    17    18    31    35     67   \n",
       "BR-2507507    6    2    0    1    9    11    20    36    32    49     72   \n",
       "BR-2611606   14    5    2    4   14    19    40    53    80   110    201   \n",
       "BR-2704302    5    2    2    3    8     8    20    25    39    76     64   \n",
       "BR-2800308    5    6    3    2    6     4    15    29    34    48     51   \n",
       "BR-2927408    6    2    3    7   13    19    30    65   112   125    173   \n",
       "BR-3106200    1    0    1    0    2     9    18    23    36    58     89   \n",
       "BR-3205309    1    0    0    1    1     4     4    10    17    21     21   \n",
       "BR-3304557   23    6    8   23   54   105   173   297   472   597    806   \n",
       "BR-3550308    8    7    8   19   42    82   200   290   427   557    887   \n",
       "BR-4106902    1    2    0    2    8    12    22    38    53   104    138   \n",
       "BR-4205407    0    0    0    1    0     1     1     1     3     9     11   \n",
       "BR-4314902    0    0    0    6    2    10    10    22    25    52     68   \n",
       "BR-5002704    0    0    0    1    3     4    11    15    30    52     68   \n",
       "BR-5103403    1    0    0    3    3     4    14    16    26    30     43   \n",
       "BR-5208707    3    0    1    3   12    12    25    44    59    90    106   \n",
       "BR-5300108    0    0    0    0    1     0     1     1     4     2      8   \n",
       "\n",
       "               55     60     65     70     75     80  \n",
       "id                                                    \n",
       "BR-RO         173    189    257    279    220    351  \n",
       "BR-AC          53     75     73     91     74    131  \n",
       "BR-AM         652    804   1018    929    813   1469  \n",
       "BR-RR          70     81     77     78     60    123  \n",
       "BR-PA         589    785   1053   1039   1087   1871  \n",
       "BR-AP          60     84     93     99     91    139  \n",
       "BR-TO          84    131    141    162    172    345  \n",
       "BR-MA         239    353    431    474    474    912  \n",
       "BR-PI         152    202    282    348    301    758  \n",
       "BR-CE         682    888   1109   1415   1450   3419  \n",
       "BR-RN         229    232    247    360    339    726  \n",
       "BR-PB         270    320    437    489    501   1210  \n",
       "BR-PE         766   1023   1247   1391   1362   2830  \n",
       "BR-AL         210    315    336    363    369    616  \n",
       "BR-SE         192    265    316    340    335    671  \n",
       "BR-BA         673    864   1143   1125   1141   2621  \n",
       "BR-MG        1062   1404   1859   2036   2040   4712  \n",
       "BR-ES         297    388    486    474    498   1047  \n",
       "BR-RJ        2370   3173   3948   4262   3792   8512  \n",
       "BR-SP        4004   5739   6948   7166   6674  14245  \n",
       "BR-PR         757   1038   1271   1340   1256   2277  \n",
       "BR-SC         446    684    862    897    803   1602  \n",
       "BR-RS         680   1061   1362   1602   1458   3060  \n",
       "BR-MS         242    322    364    420    315    725  \n",
       "BR-MT         219    252    313    307    252    414  \n",
       "BR-GO         566    836    945   1030    940   1891  \n",
       "BR-DF          11     16      7     16     10     22  \n",
       "BR          15748  21524  26625  28532  26827  56699  \n",
       "BR-1100205     90    107    139    151     95    177  \n",
       "BR-1200401     46     65     57     71     62    111  \n",
       "BR-1302603    477    609    719    658    524    880  \n",
       "BR-1400100     46     59     55     62     46     95  \n",
       "BR-1501402    190    264    337    339    348    652  \n",
       "BR-1600303     41     64     62     65     59    112  \n",
       "BR-1721000     21     23     29     25     33     47  \n",
       "BR-2111300     75    128    146    122    140    327  \n",
       "BR-2211001     78    111    138    186    142    413  \n",
       "BR-2304400    333    421    517    662    619   1338  \n",
       "BR-2408102    102    100    131    172    168    342  \n",
       "BR-2507507     97    104    140    158    139    371  \n",
       "BR-2611606    243    358    423    436    395    981  \n",
       "BR-2704302     92    156    142    169    158    277  \n",
       "BR-2800308     66     93    123    116    130    246  \n",
       "BR-2927408    271    315    441    388    409    974  \n",
       "BR-3106200    169    197    296    343    305    878  \n",
       "BR-3205309     56     54     74     84     82    224  \n",
       "BR-3304557   1242   1737   2208   2455   2180   5300  \n",
       "BR-3550308   1221   1764   2100   2318   2132   5165  \n",
       "BR-4106902    224    296    336    351    349    724  \n",
       "BR-4205407     28     34     50     50     63    146  \n",
       "BR-4314902    104    178    246    291    336    766  \n",
       "BR-5002704     98    150    182    202    135    345  \n",
       "BR-5103403     64     76     97     95     75    140  \n",
       "BR-5208707    178    280    290    338    304    617  \n",
       "BR-5300108     11     16      7     16     10     22  "
      ],
      "text/html": "<div>\n<style scoped>\n    .dataframe tbody tr th:only-of-type {\n        vertical-align: middle;\n    }\n\n    .dataframe tbody tr th {\n        vertical-align: top;\n    }\n\n    .dataframe thead th {\n        text-align: right;\n    }\n</style>\n<table border=\"1\" class=\"dataframe\">\n  <thead>\n    <tr style=\"text-align: right;\">\n      <th></th>\n      <th>0</th>\n      <th>5</th>\n      <th>10</th>\n      <th>15</th>\n      <th>20</th>\n      <th>25</th>\n      <th>30</th>\n      <th>35</th>\n      <th>40</th>\n      <th>45</th>\n      <th>50</th>\n      <th>55</th>\n      <th>60</th>\n      <th>65</th>\n      <th>70</th>\n      <th>75</th>\n      <th>80</th>\n    </tr>\n    <tr>\n      <th>id</th>\n      <th></th>\n      <th></th>\n      <th></th>\n      <th></th>\n      <th></th>\n      <th></th>\n      <th></th>\n      <th></th>\n      <th></th>\n      <th></th>\n      <th></th>\n      <th></th>\n      <th></th>\n      <th></th>\n      <th></th>\n      <th></th>\n      <th></th>\n    </tr>\n  </thead>\n  <tbody>\n    <tr>\n      <th>BR-RO</th>\n      <td>7</td>\n      <td>5</td>\n      <td>2</td>\n      <td>9</td>\n      <td>11</td>\n      <td>12</td>\n      <td>38</td>\n      <td>56</td>\n      <td>71</td>\n      <td>111</td>\n      <td>137</td>\n      <td>173</td>\n      <td>189</td>\n      <td>257</td>\n      <td>279</td>\n      <td>220</td>\n      <td>351</td>\n    </tr>\n    <tr>\n      <th>BR-AC</th>\n      <td>4</td>\n      <td>1</td>\n      <td>1</td>\n      <td>3</td>\n      <td>1</td>\n      <td>8</td>\n      <td>15</td>\n      <td>18</td>\n      <td>24</td>\n      <td>34</td>\n      <td>47</td>\n      <td>53</td>\n      <td>75</td>\n      <td>73</td>\n      <td>91</td>\n      <td>74</td>\n      <td>131</td>\n    </tr>\n    <tr>\n      <th>BR-AM</th>\n      <td>29</td>\n      <td>16</td>\n      <td>9</td>\n      <td>25</td>\n      <td>45</td>\n      <td>55</td>\n      <td>112</td>\n      <td>173</td>\n      <td>301</td>\n      <td>356</td>\n      <td>415</td>\n      <td>652</td>\n      <td>804</td>\n      <td>1018</td>\n      <td>929</td>\n      <td>813</td>\n      <td>1469</td>\n    </tr>\n    <tr>\n      <th>BR-RR</th>\n      <td>8</td>\n      <td>2</td>\n      <td>1</td>\n      <td>5</td>\n      <td>3</td>\n      <td>8</td>\n      <td>14</td>\n      <td>19</td>\n      <td>23</td>\n      <td>36</td>\n      <td>39</td>\n      <td>70</td>\n      <td>81</td>\n      <td>77</td>\n      <td>78</td>\n      <td>60</td>\n      <td>123</td>\n    </tr>\n    <tr>\n      <th>BR-PA</th>\n      <td>34</td>\n      <td>16</td>\n      <td>20</td>\n      <td>26</td>\n      <td>47</td>\n      <td>68</td>\n      <td>127</td>\n      <td>162</td>\n      <td>232</td>\n      <td>357</td>\n      <td>448</td>\n      <td>589</td>\n      <td>785</td>\n      <td>1053</td>\n      <td>1039</td>\n      <td>1087</td>\n      <td>1871</td>\n    </tr>\n    <tr>\n      <th>BR-AP</th>\n      <td>1</td>\n      <td>2</td>\n      <td>3</td>\n      <td>0</td>\n      <td>5</td>\n      <td>13</td>\n      <td>7</td>\n      <td>22</td>\n      <td>48</td>\n      <td>39</td>\n      <td>55</td>\n      <td>60</td>\n      <td>84</td>\n      <td>93</td>\n      <td>99</td>\n      <td>91</td>\n      <td>139</td>\n    </tr>\n    <tr>\n      <th>BR-TO</th>\n      <td>1</td>\n      <td>0</td>\n      <td>2</td>\n      <td>4</td>\n      <td>13</td>\n      <td>6</td>\n      <td>21</td>\n      <td>25</td>\n      <td>47</td>\n      <td>52</td>\n      <td>63</td>\n      <td>84</td>\n      <td>131</td>\n      <td>141</td>\n      <td>162</td>\n      <td>172</td>\n      <td>345</td>\n    </tr>\n    <tr>\n      <th>BR-MA</th>\n      <td>16</td>\n      <td>6</td>\n      <td>6</td>\n      <td>14</td>\n      <td>18</td>\n      <td>31</td>\n      <td>44</td>\n      <td>88</td>\n      <td>100</td>\n      <td>130</td>\n      <td>162</td>\n      <td>239</td>\n      <td>353</td>\n      <td>431</td>\n      <td>474</td>\n      <td>474</td>\n      <td>912</td>\n    </tr>\n    <tr>\n      <th>BR-PI</th>\n      <td>3</td>\n      <td>3</td>\n      <td>6</td>\n      <td>8</td>\n      <td>12</td>\n      <td>28</td>\n      <td>43</td>\n      <td>47</td>\n      <td>67</td>\n      <td>92</td>\n      <td>127</td>\n      <td>152</td>\n      <td>202</td>\n      <td>282</td>\n      <td>348</td>\n      <td>301</td>\n      <td>758</td>\n    </tr>\n    <tr>\n      <th>BR-CE</th>\n      <td>27</td>\n      <td>15</td>\n      <td>16</td>\n      <td>26</td>\n      <td>51</td>\n      <td>73</td>\n      <td>121</td>\n      <td>211</td>\n      <td>283</td>\n      <td>354</td>\n      <td>494</td>\n      <td>682</td>\n      <td>888</td>\n      <td>1109</td>\n      <td>1415</td>\n      <td>1450</td>\n      <td>3419</td>\n    </tr>\n    <tr>\n      <th>BR-RN</th>\n      <td>9</td>\n      <td>1</td>\n      <td>1</td>\n      <td>5</td>\n      <td>15</td>\n      <td>17</td>\n      <td>42</td>\n      <td>53</td>\n      <td>85</td>\n      <td>82</td>\n      <td>149</td>\n      <td>229</td>\n      <td>232</td>\n      <td>247</td>\n      <td>360</td>\n      <td>339</td>\n      <td>726</td>\n    </tr>\n    <tr>\n      <th>BR-PB</th>\n      <td>14</td>\n      <td>6</td>\n      <td>0</td>\n      <td>4</td>\n      <td>24</td>\n      <td>30</td>\n      <td>52</td>\n      <td>96</td>\n      <td>130</td>\n      <td>149</td>\n      <td>209</td>\n      <td>270</td>\n      <td>320</td>\n      <td>437</td>\n      <td>489</td>\n      <td>501</td>\n      <td>1210</td>\n    </tr>\n    <tr>\n      <th>BR-PE</th>\n      <td>53</td>\n      <td>20</td>\n      <td>10</td>\n      <td>23</td>\n      <td>44</td>\n      <td>70</td>\n      <td>132</td>\n      <td>212</td>\n      <td>285</td>\n      <td>375</td>\n      <td>593</td>\n      <td>766</td>\n      <td>1023</td>\n      <td>1247</td>\n      <td>1391</td>\n      <td>1362</td>\n      <td>2830</td>\n    </tr>\n    <tr>\n      <th>BR-AL</th>\n      <td>11</td>\n      <td>8</td>\n      <td>5</td>\n      <td>9</td>\n      <td>13</td>\n      <td>25</td>\n      <td>41</td>\n      <td>58</td>\n      <td>87</td>\n      <td>159</td>\n      <td>153</td>\n      <td>210</td>\n      <td>315</td>\n      <td>336</td>\n      <td>363</td>\n      <td>369</td>\n      <td>616</td>\n    </tr>\n    <tr>\n      <th>BR-SE</th>\n      <td>23</td>\n      <td>19</td>\n      <td>6</td>\n      <td>9</td>\n      <td>19</td>\n      <td>18</td>\n      <td>52</td>\n      <td>70</td>\n      <td>85</td>\n      <td>125</td>\n      <td>178</td>\n      <td>192</td>\n      <td>265</td>\n      <td>316</td>\n      <td>340</td>\n      <td>335</td>\n      <td>671</td>\n    </tr>\n    <tr>\n      <th>BR-BA</th>\n      <td>26</td>\n      <td>14</td>\n      <td>10</td>\n      <td>24</td>\n      <td>39</td>\n      <td>71</td>\n      <td>101</td>\n      <td>215</td>\n      <td>315</td>\n      <td>354</td>\n      <td>502</td>\n      <td>673</td>\n      <td>864</td>\n      <td>1143</td>\n      <td>1125</td>\n      <td>1141</td>\n      <td>2621</td>\n    </tr>\n    <tr>\n      <th>BR-MG</th>\n      <td>16</td>\n      <td>7</td>\n      <td>5</td>\n      <td>10</td>\n      <td>36</td>\n      <td>68</td>\n      <td>121</td>\n      <td>220</td>\n      <td>301</td>\n      <td>415</td>\n      <td>674</td>\n      <td>1062</td>\n      <td>1404</td>\n      <td>1859</td>\n      <td>2036</td>\n      <td>2040</td>\n      <td>4712</td>\n    </tr>\n    <tr>\n      <th>BR-ES</th>\n      <td>11</td>\n      <td>2</td>\n      <td>4</td>\n      <td>7</td>\n      <td>15</td>\n      <td>25</td>\n      <td>43</td>\n      <td>74</td>\n      <td>107</td>\n      <td>161</td>\n      <td>201</td>\n      <td>297</td>\n      <td>388</td>\n      <td>486</td>\n      <td>474</td>\n      <td>498</td>\n      <td>1047</td>\n    </tr>\n    <tr>\n      <th>BR-RJ</th>\n      <td>40</td>\n      <td>22</td>\n      <td>18</td>\n      <td>40</td>\n      <td>99</td>\n      <td>183</td>\n      <td>307</td>\n      <td>556</td>\n      <td>855</td>\n      <td>1103</td>\n      <td>1524</td>\n      <td>2370</td>\n      <td>3173</td>\n      <td>3948</td>\n      <td>4262</td>\n      <td>3792</td>\n      <td>8512</td>\n    </tr>\n    <tr>\n      <th>BR-SP</th>\n      <td>28</td>\n      <td>21</td>\n      <td>31</td>\n      <td>61</td>\n      <td>145</td>\n      <td>270</td>\n      <td>554</td>\n      <td>949</td>\n      <td>1393</td>\n      <td>1940</td>\n      <td>2779</td>\n      <td>4004</td>\n      <td>5739</td>\n      <td>6948</td>\n      <td>7166</td>\n      <td>6674</td>\n      <td>14245</td>\n    </tr>\n    <tr>\n      <th>BR-PR</th>\n      <td>3</td>\n      <td>5</td>\n      <td>3</td>\n      <td>14</td>\n      <td>30</td>\n      <td>53</td>\n      <td>97</td>\n      <td>160</td>\n      <td>226</td>\n      <td>356</td>\n      <td>503</td>\n      <td>757</td>\n      <td>1038</td>\n      <td>1271</td>\n      <td>1340</td>\n      <td>1256</td>\n      <td>2277</td>\n    </tr>\n    <tr>\n      <th>BR-SC</th>\n      <td>7</td>\n      <td>2</td>\n      <td>4</td>\n      <td>8</td>\n      <td>13</td>\n      <td>27</td>\n      <td>39</td>\n      <td>89</td>\n      <td>134</td>\n      <td>211</td>\n      <td>298</td>\n      <td>446</td>\n      <td>684</td>\n      <td>862</td>\n      <td>897</td>\n      <td>803</td>\n      <td>1602</td>\n    </tr>\n    <tr>\n      <th>BR-RS</th>\n      <td>5</td>\n      <td>3</td>\n      <td>2</td>\n      <td>15</td>\n      <td>22</td>\n      <td>47</td>\n      <td>76</td>\n      <td>153</td>\n      <td>210</td>\n      <td>316</td>\n      <td>455</td>\n      <td>680</td>\n      <td>1061</td>\n      <td>1362</td>\n      <td>1602</td>\n      <td>1458</td>\n      <td>3060</td>\n    </tr>\n    <tr>\n      <th>BR-MS</th>\n      <td>0</td>\n      <td>4</td>\n      <td>0</td>\n      <td>2</td>\n      <td>5</td>\n      <td>15</td>\n      <td>30</td>\n      <td>48</td>\n      <td>77</td>\n      <td>106</td>\n      <td>169</td>\n      <td>242</td>\n      <td>322</td>\n      <td>364</td>\n      <td>420</td>\n      <td>315</td>\n      <td>725</td>\n    </tr>\n    <tr>\n      <th>BR-MT</th>\n      <td>12</td>\n      <td>3</td>\n      <td>2</td>\n      <td>8</td>\n      <td>12</td>\n      <td>20</td>\n      <td>45</td>\n      <td>62</td>\n      <td>102</td>\n      <td>117</td>\n      <td>190</td>\n      <td>219</td>\n      <td>252</td>\n      <td>313</td>\n      <td>307</td>\n      <td>252</td>\n      <td>414</td>\n    </tr>\n    <tr>\n      <th>BR-GO</th>\n      <td>6</td>\n      <td>4</td>\n      <td>5</td>\n      <td>12</td>\n      <td>31</td>\n      <td>51</td>\n      <td>88</td>\n      <td>152</td>\n      <td>245</td>\n      <td>327</td>\n      <td>408</td>\n      <td>566</td>\n      <td>836</td>\n      <td>945</td>\n      <td>1030</td>\n      <td>940</td>\n      <td>1891</td>\n    </tr>\n    <tr>\n      <th>BR-DF</th>\n      <td>0</td>\n      <td>0</td>\n      <td>0</td>\n      <td>0</td>\n      <td>1</td>\n      <td>0</td>\n      <td>1</td>\n      <td>1</td>\n      <td>4</td>\n      <td>2</td>\n      <td>8</td>\n      <td>11</td>\n      <td>16</td>\n      <td>7</td>\n      <td>16</td>\n      <td>10</td>\n      <td>22</td>\n    </tr>\n    <tr>\n      <th>BR</th>\n      <td>394</td>\n      <td>207</td>\n      <td>172</td>\n      <td>371</td>\n      <td>769</td>\n      <td>1292</td>\n      <td>2363</td>\n      <td>3989</td>\n      <td>5837</td>\n      <td>7859</td>\n      <td>10980</td>\n      <td>15748</td>\n      <td>21524</td>\n      <td>26625</td>\n      <td>28532</td>\n      <td>26827</td>\n      <td>56699</td>\n    </tr>\n    <tr>\n      <th>BR-1100205</th>\n      <td>5</td>\n      <td>4</td>\n      <td>1</td>\n      <td>6</td>\n      <td>3</td>\n      <td>8</td>\n      <td>22</td>\n      <td>35</td>\n      <td>45</td>\n      <td>52</td>\n      <td>65</td>\n      <td>90</td>\n      <td>107</td>\n      <td>139</td>\n      <td>151</td>\n      <td>95</td>\n      <td>177</td>\n    </tr>\n    <tr>\n      <th>BR-1200401</th>\n      <td>1</td>\n      <td>0</td>\n      <td>0</td>\n      <td>2</td>\n      <td>0</td>\n      <td>7</td>\n      <td>14</td>\n      <td>16</td>\n      <td>21</td>\n      <td>27</td>\n      <td>38</td>\n      <td>46</td>\n      <td>65</td>\n      <td>57</td>\n      <td>71</td>\n      <td>62</td>\n      <td>111</td>\n    </tr>\n    <tr>\n      <th>BR-1302603</th>\n      <td>13</td>\n      <td>9</td>\n      <td>6</td>\n      <td>14</td>\n      <td>26</td>\n      <td>38</td>\n      <td>81</td>\n      <td>131</td>\n      <td>229</td>\n      <td>274</td>\n      <td>321</td>\n      <td>477</td>\n      <td>609</td>\n      <td>719</td>\n      <td>658</td>\n      <td>524</td>\n      <td>880</td>\n    </tr>\n    <tr>\n      <th>BR-1400100</th>\n      <td>5</td>\n      <td>2</td>\n      <td>1</td>\n      <td>1</td>\n      <td>3</td>\n      <td>6</td>\n      <td>14</td>\n      <td>12</td>\n      <td>19</td>\n      <td>30</td>\n      <td>27</td>\n      <td>46</td>\n      <td>59</td>\n      <td>55</td>\n      <td>62</td>\n      <td>46</td>\n      <td>95</td>\n    </tr>\n    <tr>\n      <th>BR-1501402</th>\n      <td>5</td>\n      <td>4</td>\n      <td>8</td>\n      <td>2</td>\n      <td>12</td>\n      <td>15</td>\n      <td>43</td>\n      <td>31</td>\n      <td>60</td>\n      <td>102</td>\n      <td>130</td>\n      <td>190</td>\n      <td>264</td>\n      <td>337</td>\n      <td>339</td>\n      <td>348</td>\n      <td>652</td>\n    </tr>\n    <tr>\n      <th>BR-1600303</th>\n      <td>1</td>\n      <td>0</td>\n      <td>2</td>\n      <td>0</td>\n      <td>5</td>\n      <td>7</td>\n      <td>5</td>\n      <td>13</td>\n      <td>44</td>\n      <td>28</td>\n      <td>36</td>\n      <td>41</td>\n      <td>64</td>\n      <td>62</td>\n      <td>65</td>\n      <td>59</td>\n      <td>112</td>\n    </tr>\n    <tr>\n      <th>BR-1721000</th>\n      <td>0</td>\n      <td>0</td>\n      <td>0</td>\n      <td>0</td>\n      <td>4</td>\n      <td>1</td>\n      <td>4</td>\n      <td>6</td>\n      <td>6</td>\n      <td>11</td>\n      <td>11</td>\n      <td>21</td>\n      <td>23</td>\n      <td>29</td>\n      <td>25</td>\n      <td>33</td>\n      <td>47</td>\n    </tr>\n    <tr>\n      <th>BR-2111300</th>\n      <td>4</td>\n      <td>0</td>\n      <td>1</td>\n      <td>4</td>\n      <td>6</td>\n      <td>7</td>\n      <td>16</td>\n      <td>28</td>\n      <td>30</td>\n      <td>51</td>\n      <td>63</td>\n      <td>75</td>\n      <td>128</td>\n      <td>146</td>\n      <td>122</td>\n      <td>140</td>\n      <td>327</td>\n    </tr>\n    <tr>\n      <th>BR-2211001</th>\n      <td>0</td>\n      <td>0</td>\n      <td>3</td>\n      <td>3</td>\n      <td>7</td>\n      <td>16</td>\n      <td>13</td>\n      <td>26</td>\n      <td>25</td>\n      <td>52</td>\n      <td>59</td>\n      <td>78</td>\n      <td>111</td>\n      <td>138</td>\n      <td>186</td>\n      <td>142</td>\n      <td>413</td>\n    </tr>\n    <tr>\n      <th>BR-2304400</th>\n      <td>6</td>\n      <td>4</td>\n      <td>6</td>\n      <td>13</td>\n      <td>18</td>\n      <td>30</td>\n      <td>38</td>\n      <td>97</td>\n      <td>147</td>\n      <td>169</td>\n      <td>253</td>\n      <td>333</td>\n      <td>421</td>\n      <td>517</td>\n      <td>662</td>\n      <td>619</td>\n      <td>1338</td>\n    </tr>\n    <tr>\n      <th>BR-2408102</th>\n      <td>4</td>\n      <td>1</td>\n      <td>1</td>\n      <td>1</td>\n      <td>7</td>\n      <td>6</td>\n      <td>17</td>\n      <td>18</td>\n      <td>31</td>\n      <td>35</td>\n      <td>67</td>\n      <td>102</td>\n      <td>100</td>\n      <td>131</td>\n      <td>172</td>\n      <td>168</td>\n      <td>342</td>\n    </tr>\n    <tr>\n      <th>BR-2507507</th>\n      <td>6</td>\n      <td>2</td>\n      <td>0</td>\n      <td>1</td>\n      <td>9</td>\n      <td>11</td>\n      <td>20</td>\n      <td>36</td>\n      <td>32</td>\n      <td>49</td>\n      <td>72</td>\n      <td>97</td>\n      <td>104</td>\n      <td>140</td>\n      <td>158</td>\n      <td>139</td>\n      <td>371</td>\n    </tr>\n    <tr>\n      <th>BR-2611606</th>\n      <td>14</td>\n      <td>5</td>\n      <td>2</td>\n      <td>4</td>\n      <td>14</td>\n      <td>19</td>\n      <td>40</td>\n      <td>53</td>\n      <td>80</td>\n      <td>110</td>\n      <td>201</td>\n      <td>243</td>\n      <td>358</td>\n      <td>423</td>\n      <td>436</td>\n      <td>395</td>\n      <td>981</td>\n    </tr>\n    <tr>\n      <th>BR-2704302</th>\n      <td>5</td>\n      <td>2</td>\n      <td>2</td>\n      <td>3</td>\n      <td>8</td>\n      <td>8</td>\n      <td>20</td>\n      <td>25</td>\n      <td>39</td>\n      <td>76</td>\n      <td>64</td>\n      <td>92</td>\n      <td>156</td>\n      <td>142</td>\n      <td>169</td>\n      <td>158</td>\n      <td>277</td>\n    </tr>\n    <tr>\n      <th>BR-2800308</th>\n      <td>5</td>\n      <td>6</td>\n      <td>3</td>\n      <td>2</td>\n      <td>6</td>\n      <td>4</td>\n      <td>15</td>\n      <td>29</td>\n      <td>34</td>\n      <td>48</td>\n      <td>51</td>\n      <td>66</td>\n      <td>93</td>\n      <td>123</td>\n      <td>116</td>\n      <td>130</td>\n      <td>246</td>\n    </tr>\n    <tr>\n      <th>BR-2927408</th>\n      <td>6</td>\n      <td>2</td>\n      <td>3</td>\n      <td>7</td>\n      <td>13</td>\n      <td>19</td>\n      <td>30</td>\n      <td>65</td>\n      <td>112</td>\n      <td>125</td>\n      <td>173</td>\n      <td>271</td>\n      <td>315</td>\n      <td>441</td>\n      <td>388</td>\n      <td>409</td>\n      <td>974</td>\n    </tr>\n    <tr>\n      <th>BR-3106200</th>\n      <td>1</td>\n      <td>0</td>\n      <td>1</td>\n      <td>0</td>\n      <td>2</td>\n      <td>9</td>\n      <td>18</td>\n      <td>23</td>\n      <td>36</td>\n      <td>58</td>\n      <td>89</td>\n      <td>169</td>\n      <td>197</td>\n      <td>296</td>\n      <td>343</td>\n      <td>305</td>\n      <td>878</td>\n    </tr>\n    <tr>\n      <th>BR-3205309</th>\n      <td>1</td>\n      <td>0</td>\n      <td>0</td>\n      <td>1</td>\n      <td>1</td>\n      <td>4</td>\n      <td>4</td>\n      <td>10</td>\n      <td>17</td>\n      <td>21</td>\n      <td>21</td>\n      <td>56</td>\n      <td>54</td>\n      <td>74</td>\n      <td>84</td>\n      <td>82</td>\n      <td>224</td>\n    </tr>\n    <tr>\n      <th>BR-3304557</th>\n      <td>23</td>\n      <td>6</td>\n      <td>8</td>\n      <td>23</td>\n      <td>54</td>\n      <td>105</td>\n      <td>173</td>\n      <td>297</td>\n      <td>472</td>\n      <td>597</td>\n      <td>806</td>\n      <td>1242</td>\n      <td>1737</td>\n      <td>2208</td>\n      <td>2455</td>\n      <td>2180</td>\n      <td>5300</td>\n    </tr>\n    <tr>\n      <th>BR-3550308</th>\n      <td>8</td>\n      <td>7</td>\n      <td>8</td>\n      <td>19</td>\n      <td>42</td>\n      <td>82</td>\n      <td>200</td>\n      <td>290</td>\n      <td>427</td>\n      <td>557</td>\n      <td>887</td>\n      <td>1221</td>\n      <td>1764</td>\n      <td>2100</td>\n      <td>2318</td>\n      <td>2132</td>\n      <td>5165</td>\n    </tr>\n    <tr>\n      <th>BR-4106902</th>\n      <td>1</td>\n      <td>2</td>\n      <td>0</td>\n      <td>2</td>\n      <td>8</td>\n      <td>12</td>\n      <td>22</td>\n      <td>38</td>\n      <td>53</td>\n      <td>104</td>\n      <td>138</td>\n      <td>224</td>\n      <td>296</td>\n      <td>336</td>\n      <td>351</td>\n      <td>349</td>\n      <td>724</td>\n    </tr>\n    <tr>\n      <th>BR-4205407</th>\n      <td>0</td>\n      <td>0</td>\n      <td>0</td>\n      <td>1</td>\n      <td>0</td>\n      <td>1</td>\n      <td>1</td>\n      <td>1</td>\n      <td>3</td>\n      <td>9</td>\n      <td>11</td>\n      <td>28</td>\n      <td>34</td>\n      <td>50</td>\n      <td>50</td>\n      <td>63</td>\n      <td>146</td>\n    </tr>\n    <tr>\n      <th>BR-4314902</th>\n      <td>0</td>\n      <td>0</td>\n      <td>0</td>\n      <td>6</td>\n      <td>2</td>\n      <td>10</td>\n      <td>10</td>\n      <td>22</td>\n      <td>25</td>\n      <td>52</td>\n      <td>68</td>\n      <td>104</td>\n      <td>178</td>\n      <td>246</td>\n      <td>291</td>\n      <td>336</td>\n      <td>766</td>\n    </tr>\n    <tr>\n      <th>BR-5002704</th>\n      <td>0</td>\n      <td>0</td>\n      <td>0</td>\n      <td>1</td>\n      <td>3</td>\n      <td>4</td>\n      <td>11</td>\n      <td>15</td>\n      <td>30</td>\n      <td>52</td>\n      <td>68</td>\n      <td>98</td>\n      <td>150</td>\n      <td>182</td>\n      <td>202</td>\n      <td>135</td>\n      <td>345</td>\n    </tr>\n    <tr>\n      <th>BR-5103403</th>\n      <td>1</td>\n      <td>0</td>\n      <td>0</td>\n      <td>3</td>\n      <td>3</td>\n      <td>4</td>\n      <td>14</td>\n      <td>16</td>\n      <td>26</td>\n      <td>30</td>\n      <td>43</td>\n      <td>64</td>\n      <td>76</td>\n      <td>97</td>\n      <td>95</td>\n      <td>75</td>\n      <td>140</td>\n    </tr>\n    <tr>\n      <th>BR-5208707</th>\n      <td>3</td>\n      <td>0</td>\n      <td>1</td>\n      <td>3</td>\n      <td>12</td>\n      <td>12</td>\n      <td>25</td>\n      <td>44</td>\n      <td>59</td>\n      <td>90</td>\n      <td>106</td>\n      <td>178</td>\n      <td>280</td>\n      <td>290</td>\n      <td>338</td>\n      <td>304</td>\n      <td>617</td>\n    </tr>\n    <tr>\n      <th>BR-5300108</th>\n      <td>0</td>\n      <td>0</td>\n      <td>0</td>\n      <td>0</td>\n      <td>1</td>\n      <td>0</td>\n      <td>1</td>\n      <td>1</td>\n      <td>4</td>\n      <td>2</td>\n      <td>8</td>\n      <td>11</td>\n      <td>16</td>\n      <td>7</td>\n      <td>16</td>\n      <td>10</td>\n      <td>22</td>\n    </tr>\n  </tbody>\n</table>\n</div>"
     },
     "metadata": {},
     "execution_count": 1
    }
   ],
   "source": [
    "import pandas as pd\n",
    "\n",
    "states = pd.read_csv('ibge.csv')\n",
    "code_map = dict(states.iloc[:, [0, 2]].values)\n",
    "code_map = {k: f'BR-{v}' for k, v in code_map.items()}\n",
    "code_map[76] = 'BR'\n",
    "\n",
    "df = pd.read_csv('covid_summary.csv')\n",
    "df = (\n",
    "    df[(df.context == 2) & ((df.year == 2021) | (df.month >= 3))]\n",
    "        .drop(columns=['year', 'context', 'month'])\n",
    "        .groupby('location_id').sum().reset_index()\n",
    "        .rename(columns={'location_id': 'id'})\n",
    "        .set_index('id')\n",
    "        .drop(columns='total')\n",
    "        .astype('int')\n",
    ")\n",
    "df.columns = range(0, 81, 5)\n",
    "code_map.update((c, f'BR-{c}') for c in df.index if c not in code_map)\n",
    "df.index = df.index.map(code_map.__getitem__)\n",
    "df.to_pickle('deaths.pkl.gz', protocol=4)\n",
    "df"
   ]
  },
  {
   "cell_type": "code",
   "execution_count": 2,
   "metadata": {},
   "outputs": [
    {
     "data": {
      "text/plain": [
       "<AxesSubplot:>"
      ]
     },
     "execution_count": 2,
     "metadata": {},
     "output_type": "execute_result"
    },
    {
     "data": {
      "image/png": "[encoded data removed]",
      "text/plain": [
       "<Figure size 432x288 with 1 Axes>"
      ]
     },
     "metadata": {
      "needs_background": "light"
     },
     "output_type": "display_data"
    }
   ],
   "source": [
    "df.sum().plot.bar()"
   ]
  },
  {
   "cell_type": "code",
   "execution_count": 10,
   "metadata": {},
   "outputs": [
    {
     "name": "stdout",
     "output_type": "stream",
     "text": [
      " O volume na unidade C nÆo tem nome.\n",
      " O N£mero de S‚rie do Volume ‚ D01E-8E5F\n",
      "\n",
      " Pasta de C:\\Users\\OPAS\\vaccine_simulation_notebooks\n",
      "\n",
      "09/03/2021  15:00    <DIR>          .\n",
      "09/03/2021  15:00    <DIR>          ..\n",
      "09/03/2021  14:16                21 .gitignore\n",
      "09/03/2021  14:56    <DIR>          .ipynb_checkpoints\n",
      "09/03/2021  14:39    <DIR>          .vscode\n",
      "09/03/2021  14:16             4.204 covid_hospitalizations.csv\n",
      "09/03/2021  14:50           307.718 covid_summary.csv\n",
      "09/03/2021  14:16             5.139 data.pkl.gz\n",
      "09/03/2021  14:16             2.906 hospitalization.pkl.gz\n",
      "09/03/2021  14:16             2.870 hospitalizations.pkl.gz\n",
      "09/03/2021  15:00               497 ibge.csv\n",
      "09/03/2021  14:16           111.858 mundi-test.ipynb\n",
      "09/03/2021  14:16                59 Procfile\n",
      "09/03/2021  14:16               406 README.md\n",
      "09/03/2021  14:16                64 requirements.txt\n",
      "09/03/2021  14:16                12 runtime.txt\n",
      "09/03/2021  15:00            27.906 Untitled.ipynb\n",
      "09/03/2021  14:16            99.950 vaccine_dashboard.ipynb\n",
      "09/03/2021  14:16    <DIR>          vaccines\n",
      "09/03/2021  14:30             5.673 vaccine-simple.ipynb\n",
      "              15 arquivo(s)        569.283 bytes\n",
      "               5 pasta(s)   351.357.317.120 bytes dispon¡veis\n"
     ]
    }
   ],
   "source": [
    "ls"
   ]
  },
  {
   "cell_type": "code",
   "execution_count": null,
   "metadata": {},
   "outputs": [],
   "source": [
    "!code .\n"
   ]
  }
 ],
 "metadata": {
  "kernelspec": {
   "display_name": "Python 3",
   "language": "python",
   "name": "python3"
  },
  "language_info": {
   "codemirror_mode": {
    "name": "ipython",
    "version": 3
   },
   "file_extension": ".py",
   "mimetype": "text/x-python",
   "name": "python",
   "nbconvert_exporter": "python",
   "pygments_lexer": "ipython3",
   "version": "3.9.1-final"
  }
 },
 "nbformat": 4,
 "nbformat_minor": 4
}